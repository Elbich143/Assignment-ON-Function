{
  "nbformat": 4,
  "nbformat_minor": 0,
  "metadata": {
    "colab": {
      "provenance": []
    },
    "kernelspec": {
      "name": "python3",
      "display_name": "Python 3"
    },
    "language_info": {
      "name": "python"
    }
  },
  "cells": [
    {
      "cell_type": "markdown",
      "source": [
        "  **THEORYTICAL QUESTIONS**"
      ],
      "metadata": {
        "id": "eJ0xKP9RPuu4"
      }
    },
    {
      "cell_type": "markdown",
      "source": [
        "#1What is the difference between a function and a method in Python?\n",
        "#FUNCTIONS:\n",
        "- Function is a block of code which performs some specific task/computitions.\n",
        "- Functions are resuable, neat, clean, organised , which saves our time.\n",
        "- Syntax of a function\n",
        "# def func():\n",
        "#   do something\n",
        "- Examples:\n",
        "# def greet():\n",
        "#  print(\"Welcome to Pwskills\")\n",
        "# greet()  \n",
        "# output:::--->>>> Welcome to Pwskills\n",
        "\n",
        "#METHODS\n",
        "- A functions that is associated with an object and can acess and modify the objects data.\n",
        "- Syntax\n",
        "# object_methods_name(arguments)\n",
        "- The objects automatically passed as the first arguments, usually named self, this is a special behaviour of the methods.\n",
        "- example::\n",
        "#class person:\n",
        "#  def greet(age, name):\n",
        "#   return f\"Hello, {name}! you are {age} years old\"\n",
        "#print(greet(21, \"Alpha\"))\n",
        "\n",
        "\n",
        "#2 Explain the concept of function arguments and parameters in Python.\n",
        "#Arguments::\n",
        "- As we pass information into the function through arguments.\n",
        "- Ther are basically three types of arguments in python\n",
        "#a) Positional Arguments::\n",
        "- Positional arguments are fixed arguments\n",
        "- Examples::\n",
        "#def greet(nmae):\n",
        "#  print(\"wewlcome to Pwskills\", nmae)\n",
        "#greet(\"Elbich\")  \n",
        "# Output:::--->>> wewlcome to Pwskills Elbich\n",
        "#b) Default Arguments:::\n",
        "- default arguments is paseed at the last\n",
        "- example::\n",
        "#def sum(a, b, c=0): #  ---->>>>c = o is a default arguments.\n",
        "#  return a + b + c\n",
        "#sum(4, 3)\n",
        "# output:: ----->>>> 7\n",
        "#c) Variable length arguments::\n",
        "- takes any number of arguments\n",
        "- Examples\n",
        "#def sum(*args):\n",
        "#  return args\n",
        "#sum(11,22,33)\n",
        "#output::::---->>> (11, 22, 33)\n",
        "#Parameters::\n",
        "- Parameters are place holder for input values.\n",
        "- Arguments are also known as parameter whwn listed in a function.\n",
        "- Example\n",
        "#def greet(name, age):\n",
        "#  print(f\" hello {name}, you are {age} years old\")\n",
        "#greet(\"Tom\", 21)\n",
        "#output:::--->>> hello Tom, you are 21 years old\n",
        "\n",
        "\n",
        "#3  What are the different ways to define and call a function in Python?\n",
        "# Defining a Function::\n",
        "- Function are defined using def keyword, followed by function name, parenthesis(), and a : colon.\n",
        "- def keyword it iniatae a function definations\n",
        "- function_name it's a descptrive name for the function, following python naming conventions\n",
        "- () parenthesis enclose any parameter the function accepts.\n",
        "- : colon it is the end of the functions\n",
        "- Intended code block all lines of the code belonging to he functions must be intended consistently\n",
        "- return statements is optional\n",
        "- examples\n",
        "#def multiply(a, b):\n",
        "#  return a*b\n",
        "#multiply(9, 8)\n",
        "# output:: ---->>> 72\n",
        "# Calling a functions ::\n",
        "- To execute a code within a define function, it must be called. this is done by writting the functions named followed by parenthesis() and providing any required arguments.\n",
        "- The function is called by it's name followed by parenthesis()\n",
        "- arguments are the actual value passed to the function parameter during the call.\n",
        "- Assing the return value it can be assigned to a variables for later use\n",
        "- Examples\n",
        "#square_lambda = lambda x: x**2\n",
        "#square_lambda(5)\n",
        "#output:::---->>> 25\n",
        "\n",
        "\n",
        "#4 What is the purpose of the `return` statement in a Python function?\n",
        "- The return statement in python function serve the purpose of sending the value back to the caller of the function. It acts as a mechanism for the function to produce an output that can be used in other parts of the programme as well.\n",
        "- If we don't use return or return is used whout a value the functions return none type by deffault.\n",
        "- example\n",
        "# def sum(a, b):\n",
        "#    retturn a + b\n",
        "# sum(3, 2)\n",
        "# output::::::: ------->>>>>   5\n",
        "\n",
        "\n",
        "\n",
        "#5 What are iterators in Python and how do they differ from iterables?\n",
        "# Iterators::\n",
        "- An iterator is an object that represent a stream of data and provides a way to acess element sequentially.\n",
        "- It returns the data one by one\n",
        "- Example::\n",
        "# s = \"pwskills\"\n",
        "# for i in s:\n",
        "#   print(s)\n",
        "# a = iter(s)\n",
        "# next(a)  ------>>>>> p\n",
        "# next(a) ------>>>>>  w\n",
        "# next(a) ------>>>>>  s\n",
        "# next(a)  ------>>>>> k\n",
        "# next(a)  ------>>>>> i\n",
        "# next(a)  ------>>>>> l\n",
        "# next(a)  ------>>>>> l\n",
        "# next(a)  ------>>>>> s\n",
        "# next(a)  ------>>>>> STOP ITERATION.\n",
        "# Iterables::\n",
        "- An iterables is a python object/ sequential structure / data structure that is capable of returning it's member one at a time.\n",
        "- Premitting to be iterated over a for loop.\n",
        "- example\n",
        "#l = [1, 1.1, 3+5j, True, \"Tom\"]\n",
        "#for i in l:\n",
        "#  print(i)\n",
        "# output::\n",
        "-1\n",
        "-1.1\n",
        "-(3+5j)\n",
        "-True\n",
        "-Tom\n",
        "\n",
        "\n",
        "#6  Explain the concept of generators in Python and how they are defined.\n",
        "#Generator::\n",
        "- Generator in a python are special type of iterables that produce value lazily, one at a time ratrher than storing all values in amemory symultionuously. This makes them high memory efficient specially dealing with large data set or potentially infinate sequence.\n",
        "- It is defined by normsl function but uses yield insted of return.\n",
        "-Example\n",
        "#def sq_number(n):\n",
        "#  for i in n:\n",
        "#     yield i**2\n",
        "#sq_number(5)\n",
        "#gen = sq_number([5])\n",
        "#next(gen)\n",
        "# output:::\n",
        "- 25\n",
        "\n",
        "\n",
        "#7 What are the advantages of using generators over regular functions?\n",
        "- Since regular function return the value in one go so memory uses will be more and if the computation is more it will take a lot of time to evualate the output as it will first do the computation and the value will be returned in one go. But generator is bit lazy but it uses less memory, and on demand computation it has the ability to handel infinate data cleaner, simpler iterator code and faster initial response.\n",
        "- Example of rgular function:::\n",
        "#def multiply(a, b):\n",
        "#  return a*b\n",
        "#multiply(9, 8)\n",
        "# output :::::: -------->>>>>> 72\n",
        "- Example of Generator function::\n",
        "#def sq_number(n):\n",
        "#  for i in n:\n",
        "#     yield i**2\n",
        "#sq_number(5)\n",
        "#gen = sq_number([5])\n",
        "#next(gen)\n",
        "# output:::\n",
        "- 25\n",
        "\n",
        "\n",
        "#8 What is a lambda function in Python and when is it typically used?\n",
        "- A lambda function is aquick inline function use for short task, espacially as argument to other functions.\n",
        "- It is also called as anonymus function.\n",
        "- No need of return statements and def keyword.\n",
        "# synatx :::::   lambda argument: expressions\n",
        "- Exaxmples\n",
        "#sq_lambda = lambda x: x**2\n",
        "#sq_lambda(5)\n",
        "# output:::: ---->>>>>>     25\n",
        "#When it is tipically used\n",
        "- It is tipically used when we need a function for a short time, for simple data transformations in line, in functional programming pipeline where defining seperate function would cluture the code.\n",
        "\n",
        "\n",
        "#9 Explain the purpose and usage of the `map()` function in Python.\n",
        "- A map applies in a function to every iteam in an iterables producing transformed result without explicit for loop\n",
        "- It is often used with lambda function for short inline ttransformation\n",
        "- It executes a specified function for each of iteam of an iterable\n",
        "# syntax :::   map(function, *iterables)\n",
        "- Example\n",
        "#l = [1, 2, 3, 4, 5]\n",
        "#list(map(lambda x: x**2, l))\n",
        "# output ::: --->>>     [1, 4, 9, 16, 25]\n",
        "\n",
        "\n",
        "#10 What is the difference between `map()`, `reduce()`, and `filter()` functions in Python?\n",
        "- map() transform all elements, filter() select some elements and reduce() aggrate to one value. The output map() produces is same as input value, the output that filter() produces may have fewer element than input and the output that reduce produces is always one value.\n",
        "- Example of map()\n",
        "##l = [1, 2, 3, 4, 5]\n",
        "#list(map(lambda x: x**2, l))\n",
        "# output ::: --->>>     [1, 4, 9, 16, 25]\n",
        "- Example of filter()\n",
        "#l = [1, 2, 3, 4, 5]\n",
        "#list(filter(lambda x: x%2==0, l))\n",
        "#output:::--->>> [2, 4]\n",
        "- Example of reduce()\n",
        "# from functools import reduce\n",
        "# l = [1, 2, 3, 4, 5]\n",
        "# reduce(lambda x, y: x+y, l)\n",
        "# output :::--->>> 15\n",
        "\n",
        "\n",
        "#11 Using pen & Paper write the internal mechanism for sum operation using  reduce function on this given\n",
        "list:[47,11,42,13]."
      ],
      "metadata": {
        "id": "SjkZ3cvJQQls"
      }
    },
    {
      "cell_type": "markdown",
      "source": [
        "![WhatsApp Image 2025-08-16 at 11.56.58 PM.jpeg](data:image/jpeg;base64,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)"
      ],
      "metadata": {
        "id": "YkujBurpIUWT"
      }
    },
    {
      "cell_type": "markdown",
      "source": [
        "**PRACTICAL QUESTIONS**"
      ],
      "metadata": {
        "id": "5rijvEfoJGzt"
      }
    },
    {
      "cell_type": "code",
      "source": [
        "#1. Write a Python function that takes a list of numbers as input and returns the sum of all even numbers in the list.\n",
        "l = [12, 21, 13, 44, 54, 2, 5, 6]\n",
        "list(filter(lambda x: x%2 == 0, l))"
      ],
      "metadata": {
        "colab": {
          "base_uri": "https://localhost:8080/"
        },
        "id": "OagfYZfeJNY0",
        "outputId": "7c5227e9-df92-4b38-890c-0e2eeb23baf4"
      },
      "execution_count": 1,
      "outputs": [
        {
          "output_type": "execute_result",
          "data": {
            "text/plain": [
              "[12, 44, 54, 2, 6]"
            ]
          },
          "metadata": {},
          "execution_count": 1
        }
      ]
    },
    {
      "cell_type": "code",
      "source": [
        "#2 Create a Python function that accepts a string and returns the reverse of that string.\n",
        "s = \"pwskills\"\n",
        "s[::-1]"
      ],
      "metadata": {
        "colab": {
          "base_uri": "https://localhost:8080/",
          "height": 35
        },
        "id": "Jfoa7zfAOHWQ",
        "outputId": "e4a0ea2a-74ff-408a-f754-2ad8759828a1"
      },
      "execution_count": 2,
      "outputs": [
        {
          "output_type": "execute_result",
          "data": {
            "text/plain": [
              "'sllikswp'"
            ],
            "application/vnd.google.colaboratory.intrinsic+json": {
              "type": "string"
            }
          },
          "metadata": {},
          "execution_count": 2
        }
      ]
    },
    {
      "cell_type": "code",
      "source": [
        "#3 Implement a Python function that takes a list of integers and returns a new list containing the squares of each numbers.\n",
        "l = [ 1, 2, 3, 4, 5, 6]\n",
        "list(map(lambda x: x**2, l))"
      ],
      "metadata": {
        "colab": {
          "base_uri": "https://localhost:8080/"
        },
        "id": "8uT4-0swOLJL",
        "outputId": "1f3c3a26-9579-44f2-83ba-c8e3fda1e4b7"
      },
      "execution_count": 3,
      "outputs": [
        {
          "output_type": "execute_result",
          "data": {
            "text/plain": [
              "[1, 4, 9, 16, 25, 36]"
            ]
          },
          "metadata": {},
          "execution_count": 3
        }
      ]
    },
    {
      "cell_type": "code",
      "source": [
        "#4 Write a Python function that checks if a given number is prime or not from 1 to 200.\n",
        "def is_prime(num):\n",
        "  if num <= 1:\n",
        "    return False\n",
        "  for i in range(2, int(num**0.5) + 1):\n",
        "    if num % i == 0:\n",
        "      return False\n",
        "  return True\n",
        "print(\"Prime numbers between 1 and 200:\")\n",
        "for number in range(1, 201):\n",
        "  if is_prime(number):\n",
        "    print(number)"
      ],
      "metadata": {
        "colab": {
          "base_uri": "https://localhost:8080/"
        },
        "id": "ZD6UhFAeOO_p",
        "outputId": "d0541fc0-741b-4531-e416-9c90d8c018bc"
      },
      "execution_count": 5,
      "outputs": [
        {
          "output_type": "stream",
          "name": "stdout",
          "text": [
            "Prime numbers between 1 and 200:\n",
            "2\n",
            "3\n",
            "5\n",
            "7\n",
            "11\n",
            "13\n",
            "17\n",
            "19\n",
            "23\n",
            "29\n",
            "31\n",
            "37\n",
            "41\n",
            "43\n",
            "47\n",
            "53\n",
            "59\n",
            "61\n",
            "67\n",
            "71\n",
            "73\n",
            "79\n",
            "83\n",
            "89\n",
            "97\n",
            "101\n",
            "103\n",
            "107\n",
            "109\n",
            "113\n",
            "127\n",
            "131\n",
            "137\n",
            "139\n",
            "149\n",
            "151\n",
            "157\n",
            "163\n",
            "167\n",
            "173\n",
            "179\n",
            "181\n",
            "191\n",
            "193\n",
            "197\n",
            "199\n"
          ]
        }
      ]
    },
    {
      "cell_type": "code",
      "source": [
        "#5 Create an iterator class in Python that generates the Fibonacci sequence up to a specified number of terms\n",
        "def fib(n):\n",
        "  a = 0\n",
        "  b = 1\n",
        "  for i in range(n):\n",
        "    yield a\n",
        "    a, b = b, a+b\n",
        "f = fib(10)\n",
        "next(f)"
      ],
      "metadata": {
        "colab": {
          "base_uri": "https://localhost:8080/"
        },
        "id": "nxbeiBklOS3P",
        "outputId": "6d437eee-0e69-44c2-9eb2-43f6b8b3cdaf"
      },
      "execution_count": 6,
      "outputs": [
        {
          "output_type": "execute_result",
          "data": {
            "text/plain": [
              "0"
            ]
          },
          "metadata": {},
          "execution_count": 6
        }
      ]
    },
    {
      "cell_type": "code",
      "source": [
        "next(f)\n"
      ],
      "metadata": {
        "colab": {
          "base_uri": "https://localhost:8080/"
        },
        "id": "PDW9lV0hPAgf",
        "outputId": "14f88b87-7458-42c9-ddb0-d6425343838a"
      },
      "execution_count": 7,
      "outputs": [
        {
          "output_type": "execute_result",
          "data": {
            "text/plain": [
              "1"
            ]
          },
          "metadata": {},
          "execution_count": 7
        }
      ]
    },
    {
      "cell_type": "code",
      "source": [
        "next(f)"
      ],
      "metadata": {
        "colab": {
          "base_uri": "https://localhost:8080/"
        },
        "id": "m6CJH8CcPCq4",
        "outputId": "93a8ea30-d8ff-42f1-84ab-43e738d0efef"
      },
      "execution_count": 8,
      "outputs": [
        {
          "output_type": "execute_result",
          "data": {
            "text/plain": [
              "1"
            ]
          },
          "metadata": {},
          "execution_count": 8
        }
      ]
    },
    {
      "cell_type": "code",
      "source": [
        "next(f)"
      ],
      "metadata": {
        "colab": {
          "base_uri": "https://localhost:8080/"
        },
        "id": "Y8GlJXAEPD_H",
        "outputId": "0cda5854-80d1-49e4-e88b-2f75c751648b"
      },
      "execution_count": 9,
      "outputs": [
        {
          "output_type": "execute_result",
          "data": {
            "text/plain": [
              "2"
            ]
          },
          "metadata": {},
          "execution_count": 9
        }
      ]
    },
    {
      "cell_type": "code",
      "source": [
        "next(f)"
      ],
      "metadata": {
        "colab": {
          "base_uri": "https://localhost:8080/"
        },
        "id": "l1K85qskPE-p",
        "outputId": "999ee188-a8bc-4c09-bec0-4b358af4e931"
      },
      "execution_count": 10,
      "outputs": [
        {
          "output_type": "execute_result",
          "data": {
            "text/plain": [
              "3"
            ]
          },
          "metadata": {},
          "execution_count": 10
        }
      ]
    },
    {
      "cell_type": "code",
      "source": [
        "next(f)"
      ],
      "metadata": {
        "colab": {
          "base_uri": "https://localhost:8080/"
        },
        "id": "sax9UJ9MPGOp",
        "outputId": "3c909821-6bf0-4e07-f6df-b815bb9c9308"
      },
      "execution_count": 11,
      "outputs": [
        {
          "output_type": "execute_result",
          "data": {
            "text/plain": [
              "5"
            ]
          },
          "metadata": {},
          "execution_count": 11
        }
      ]
    },
    {
      "cell_type": "code",
      "source": [
        "next(f)"
      ],
      "metadata": {
        "colab": {
          "base_uri": "https://localhost:8080/"
        },
        "id": "s1HiUbvmPG9-",
        "outputId": "4caf70b0-deea-44c5-9335-be3ae0015928"
      },
      "execution_count": 12,
      "outputs": [
        {
          "output_type": "execute_result",
          "data": {
            "text/plain": [
              "8"
            ]
          },
          "metadata": {},
          "execution_count": 12
        }
      ]
    },
    {
      "cell_type": "code",
      "source": [
        "next(f)"
      ],
      "metadata": {
        "colab": {
          "base_uri": "https://localhost:8080/"
        },
        "id": "-Wmv-4KSPHiw",
        "outputId": "ed302c36-e8dd-4f8c-99cc-eb52a89e66af"
      },
      "execution_count": 13,
      "outputs": [
        {
          "output_type": "execute_result",
          "data": {
            "text/plain": [
              "13"
            ]
          },
          "metadata": {},
          "execution_count": 13
        }
      ]
    },
    {
      "cell_type": "code",
      "source": [
        "next(f)"
      ],
      "metadata": {
        "colab": {
          "base_uri": "https://localhost:8080/"
        },
        "id": "5urcTstoPII8",
        "outputId": "b8c3632e-199e-48df-d3a3-d26ccf6634f3"
      },
      "execution_count": 14,
      "outputs": [
        {
          "output_type": "execute_result",
          "data": {
            "text/plain": [
              "21"
            ]
          },
          "metadata": {},
          "execution_count": 14
        }
      ]
    },
    {
      "cell_type": "code",
      "source": [
        "next(f)"
      ],
      "metadata": {
        "colab": {
          "base_uri": "https://localhost:8080/"
        },
        "id": "jaNnMufoPIpy",
        "outputId": "ca26fc78-b596-4fb2-8f77-b1b4d64a5ddd"
      },
      "execution_count": 15,
      "outputs": [
        {
          "output_type": "execute_result",
          "data": {
            "text/plain": [
              "34"
            ]
          },
          "metadata": {},
          "execution_count": 15
        }
      ]
    },
    {
      "cell_type": "code",
      "source": [
        "next(f)"
      ],
      "metadata": {
        "colab": {
          "base_uri": "https://localhost:8080/",
          "height": 141
        },
        "id": "8fFdFoZyPJwh",
        "outputId": "29598ac5-c812-48f7-d00e-ab7d7291c8fb"
      },
      "execution_count": 16,
      "outputs": [
        {
          "output_type": "error",
          "ename": "StopIteration",
          "evalue": "",
          "traceback": [
            "\u001b[0;31m---------------------------------------------------------------------------\u001b[0m",
            "\u001b[0;31mStopIteration\u001b[0m                             Traceback (most recent call last)",
            "\u001b[0;32m/tmp/ipython-input-4256387510.py\u001b[0m in \u001b[0;36m<cell line: 0>\u001b[0;34m()\u001b[0m\n\u001b[0;32m----> 1\u001b[0;31m \u001b[0mnext\u001b[0m\u001b[0;34m(\u001b[0m\u001b[0mf\u001b[0m\u001b[0;34m)\u001b[0m\u001b[0;34m\u001b[0m\u001b[0;34m\u001b[0m\u001b[0m\n\u001b[0m",
            "\u001b[0;31mStopIteration\u001b[0m: "
          ]
        }
      ]
    },
    {
      "cell_type": "code",
      "source": [
        "#6 Write a generator function in Python that yields the powers of 2 up to a given exponent\n",
        "def power_generator(base, exponent):\n",
        "    result = 1\n",
        "    for i in range(exponent + 1):\n",
        "        yield result\n",
        "        result *= base\n",
        "base = 2\n",
        "exponent = 3\n",
        "power_gen = power_generator(base, exponent)\n",
        "print(f\"Powers of {base} up to exponent {exponent}:\")\n",
        "for power in power_gen:\n",
        "    print(power)"
      ],
      "metadata": {
        "colab": {
          "base_uri": "https://localhost:8080/"
        },
        "id": "tAV8v7ABPKXP",
        "outputId": "b2818ba5-1970-4cfd-e5d5-6a88c4c8787a"
      },
      "execution_count": 17,
      "outputs": [
        {
          "output_type": "stream",
          "name": "stdout",
          "text": [
            "Powers of 2 up to exponent 3:\n",
            "1\n",
            "2\n",
            "4\n",
            "8\n"
          ]
        }
      ]
    },
    {
      "cell_type": "code",
      "source": [
        "#7 Implement a generator function that reads a file line by line and yields each line as a string.\n",
        "def read_file_line_by_line(file_path):\n",
        "  try:\n",
        "        with open(file_path, 'r') as file:\n",
        "            for line in file:\n",
        "                yield line.strip()\n",
        "  except FileNotFoundError:\n",
        "        print(f\"Error: File not found at '{file_path}'\")\n",
        "  except Exception as e:\n",
        "        print(f\"An error occurred while reading the file: {e}\")\n",
        "file_path = 'your_file.txt'\n",
        "print(f\"Reading file: {file_path}\")\n",
        "for line in read_file_line_by_line(file_path):\n",
        "  print(line)"
      ],
      "metadata": {
        "colab": {
          "base_uri": "https://localhost:8080/"
        },
        "id": "EwSEXqKJPRA1",
        "outputId": "0597edb3-d5b2-48ce-ad51-003d6d5aeb8e"
      },
      "execution_count": 18,
      "outputs": [
        {
          "output_type": "stream",
          "name": "stdout",
          "text": [
            "Reading file: your_file.txt\n",
            "Error: File not found at 'your_file.txt'\n"
          ]
        }
      ]
    },
    {
      "cell_type": "code",
      "source": [
        "#8 Use a lambda function in Python to sort a list of tuples based on the second element of each tuple.\n",
        "my_list = [(1, 'c'), (2, 'a'), (3, 'b')]\n",
        "sorted_list = sorted(my_list, key=lambda item: item[1])\n",
        "print(sorted_list)"
      ],
      "metadata": {
        "colab": {
          "base_uri": "https://localhost:8080/"
        },
        "id": "fhO73UkEPcZa",
        "outputId": "f1a14295-da85-465a-cb2a-6c6b5bc77411"
      },
      "execution_count": 19,
      "outputs": [
        {
          "output_type": "stream",
          "name": "stdout",
          "text": [
            "[(2, 'a'), (3, 'b'), (1, 'c')]\n"
          ]
        }
      ]
    },
    {
      "cell_type": "code",
      "source": [
        "#9 Write a Python program that uses `map()` to convert a list of temperatures from Celsius to Fahrenheit.\n",
        "list(map(lambda celcious: (celcious*9/5)+32, [10, 20, 30, 40]))"
      ],
      "metadata": {
        "colab": {
          "base_uri": "https://localhost:8080/"
        },
        "id": "nLnj6BaXPfzy",
        "outputId": "4f59d27f-4fcb-4566-b37b-867631f48ff4"
      },
      "execution_count": 20,
      "outputs": [
        {
          "output_type": "execute_result",
          "data": {
            "text/plain": [
              "[50.0, 68.0, 86.0, 104.0]"
            ]
          },
          "metadata": {},
          "execution_count": 20
        }
      ]
    },
    {
      "cell_type": "code",
      "source": [
        "#10 Create a Python program that uses `filter()` to remove all the vowels from a given string.\n",
        "list(filter(lambda x: x not in 'aeiou', \"pwskills\"))"
      ],
      "metadata": {
        "colab": {
          "base_uri": "https://localhost:8080/"
        },
        "id": "eWvE8OnzPj9Q",
        "outputId": "cd5e839f-8f4b-4748-fb66-c7e2a4a27b75"
      },
      "execution_count": 21,
      "outputs": [
        {
          "output_type": "execute_result",
          "data": {
            "text/plain": [
              "['p', 'w', 's', 'k', 'l', 'l', 's']"
            ]
          },
          "metadata": {},
          "execution_count": 21
        }
      ]
    },
    {
      "cell_type": "code",
      "source": [
        "#11 ) Imagine an accounting routine used in a book shop. It works on a list with sublists, which look like this:\n",
        "# Write a Python program, which returns a list with 2-tuples. Each tuple consists of the order number and the\n",
        "# product of the price per item and the quantity. The product should be increased by 10,- € if the value of the\n",
        "# order is smaller than 100,00 €.\n",
        "# Write a Python program using lambda and map.\n",
        "orders = [[34587, \"Learning Python, Mark Lutz\", 4, 40.95],\n",
        "          [98762, \"Programming Python, Mark Lutz\", 5, 56.80],\n",
        "          [77226, \"Head First Python, Paul Barry\", 3, 32.95],\n",
        "          [88112, \"Einführung in Python3, Bernd Klein\", 3, 24.99]]\n",
        "processed_orders = list(map(lambda order: (order[0], order[2] * order[3] + (10 if order[2] * order[3] < 100 else 0)), orders))\n",
        "print(processed_orders)"
      ],
      "metadata": {
        "colab": {
          "base_uri": "https://localhost:8080/"
        },
        "id": "t_11bsoyPmsj",
        "outputId": "7540ff85-cb05-42c9-dc50-7b7a2a453945"
      },
      "execution_count": 22,
      "outputs": [
        {
          "output_type": "stream",
          "name": "stdout",
          "text": [
            "[(34587, 163.8), (98762, 284.0), (77226, 108.85000000000001), (88112, 84.97)]\n"
          ]
        }
      ]
    }
  ]
}